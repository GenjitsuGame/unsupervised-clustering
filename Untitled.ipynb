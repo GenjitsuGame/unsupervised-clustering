{
 "cells": [
  {
   "cell_type": "code",
   "execution_count": 70,
   "metadata": {},
   "outputs": [
    {
     "ename": "ImportError",
     "evalue": "No module named keras.datasets",
     "output_type": "error",
     "traceback": [
      "\u001b[0;31m---------------------------------------------------------------------------\u001b[0m",
      "\u001b[0;31mImportError\u001b[0m                               Traceback (most recent call last)",
      "\u001b[0;32m<ipython-input-70-8c2f48004212>\u001b[0m in \u001b[0;36m<module>\u001b[0;34m()\u001b[0m\n\u001b[1;32m      1\u001b[0m \u001b[0;32mimport\u001b[0m \u001b[0mnumpy\u001b[0m \u001b[0;32mas\u001b[0m \u001b[0mnp\u001b[0m\u001b[0;34m\u001b[0m\u001b[0m\n\u001b[0;32m----> 2\u001b[0;31m \u001b[0;32mfrom\u001b[0m \u001b[0mkeras\u001b[0m\u001b[0;34m.\u001b[0m\u001b[0mdatasets\u001b[0m \u001b[0;32mimport\u001b[0m \u001b[0mmnist\u001b[0m\u001b[0;34m\u001b[0m\u001b[0m\n\u001b[0m\u001b[1;32m      3\u001b[0m \u001b[0mdata\u001b[0m \u001b[0;34m=\u001b[0m \u001b[0mnp\u001b[0m\u001b[0;34m.\u001b[0m\u001b[0marray\u001b[0m\u001b[0;34m(\u001b[0m\u001b[0mnp\u001b[0m\u001b[0;34m.\u001b[0m\u001b[0mrandom\u001b[0m\u001b[0;34m.\u001b[0m\u001b[0mrandint\u001b[0m\u001b[0;34m(\u001b[0m\u001b[0;36m10\u001b[0m\u001b[0;34m,\u001b[0m\u001b[0msize\u001b[0m\u001b[0;34m=\u001b[0m\u001b[0;34m(\u001b[0m\u001b[0;36m10\u001b[0m\u001b[0;34m,\u001b[0m\u001b[0;36m3\u001b[0m\u001b[0;34m)\u001b[0m\u001b[0;34m)\u001b[0m\u001b[0;34m)\u001b[0m\u001b[0;34m\u001b[0m\u001b[0m\n",
      "\u001b[0;31mImportError\u001b[0m: No module named keras.datasets"
     ]
    }
   ],
   "source": [
    "import numpy as np\n",
    "from keras.datasets import mnist\n",
    "data = np.array(np.random.randint(10,size=(10,3)))\n"
   ]
  },
  {
   "cell_type": "code",
   "execution_count": 68,
   "metadata": {},
   "outputs": [],
   "source": [
    "def pca(data):\n",
    "    data_cov = np.cov(data)\n",
    "    w, v = np.linalg.eig(data_cov)\n",
    "    idx = (np.argsort(np.abs(w))[::-1])\n",
    "    eigenValues = w[idx]\n",
    "    eigenVectors = v[:,idx]\n",
    "    return w, v"
   ]
  },
  {
   "cell_type": "code",
   "execution_count": 69,
   "metadata": {},
   "outputs": [
    {
     "name": "stdout",
     "output_type": "stream",
     "text": [
      "[ 1.42108547e-14  6.77396373e+01  3.75936960e+01 -4.02706880e-15\n",
      "  3.67740054e-15  1.87597624e-15 -7.53843230e-16 -7.20332789e-17\n",
      "  1.29953386e-16  4.75195439e-16]\n",
      "[ 6.77396373e+01  3.75936960e+01  1.42108547e-14 -4.02706880e-15\n",
      "  3.67740054e-15  1.87597624e-15 -7.53843230e-16  4.75195439e-16\n",
      "  1.29953386e-16 -7.20332789e-17]\n"
     ]
    },
    {
     "data": {
      "text/plain": [
       "(array([ 1.42108547e-14,  6.77396373e+01,  3.75936960e+01, -4.02706880e-15,\n",
       "         3.67740054e-15,  1.87597624e-15, -7.53843230e-16, -7.20332789e-17,\n",
       "         1.29953386e-16,  4.75195439e-16]),\n",
       " array([[ 8.63201022e-01,  3.36720539e-01,  3.76169208e-01,\n",
       "         -5.91981487e-03, -6.85468769e-02,  7.06543448e-02,\n",
       "         -3.27478281e-03,  2.80555531e-03, -8.47304843e-03,\n",
       "          5.16832674e-02],\n",
       "        [-1.01218565e-01, -3.23585230e-01,  5.21918748e-01,\n",
       "          5.69480822e-01, -3.09775900e-01,  1.53023315e-01,\n",
       "          4.53456998e-02, -4.49602280e-02,  3.09525416e-02,\n",
       "         -9.12595794e-04],\n",
       "        [ 9.60628630e-02, -4.81015527e-01,  2.10134812e-01,\n",
       "          1.50736531e-01,  4.47760322e-01, -8.41478589e-02,\n",
       "          1.21708028e-01, -1.09722875e-01, -2.87594169e-04,\n",
       "          1.75534473e-01],\n",
       "        [ 7.30138414e-02, -2.09899003e-01,  2.03410667e-02,\n",
       "         -4.15712571e-01, -3.88780388e-01,  4.19828095e-01,\n",
       "         -1.11482696e-01,  7.85092105e-01,  4.54663523e-01,\n",
       "          3.29753835e-02],\n",
       "        [-2.69157982e-02, -3.32334044e-01,  3.59246425e-01,\n",
       "         -5.97557213e-01, -1.74204545e-01,  7.21290895e-02,\n",
       "         -2.05920172e-01, -1.12529849e-01, -7.14794631e-02,\n",
       "          3.83657177e-01],\n",
       "        [ 1.47316608e-01, -2.18647817e-01, -1.42331257e-01,\n",
       "         -1.03986905e-01, -1.52479566e-01,  1.04117536e-01,\n",
       "          2.18977573e-01, -5.74777291e-01,  5.42954458e-01,\n",
       "         -5.44543374e-01],\n",
       "        [ 3.20904552e-01, -2.05536684e-01, -5.52402243e-01,\n",
       "          7.90817582e-02, -4.97906173e-01,  5.23179143e-01,\n",
       "          1.50333385e-01, -1.76774569e-02, -1.87450310e-01,\n",
       "          6.09578607e-01],\n",
       "        [-3.18971164e-01,  5.07261968e-01,  2.77882158e-01,\n",
       "         -1.82879626e-01, -3.97539388e-01,  5.90226963e-01,\n",
       "          2.60269613e-01, -9.36907572e-02,  5.58712265e-02,\n",
       "          3.11806027e-01],\n",
       "        [-4.86758943e-02,  1.39932669e-01, -1.35607111e-02,\n",
       "          1.53321809e-01,  2.21733859e-01, -3.69074558e-01,\n",
       "          4.37343999e-01, -1.29318472e-01,  6.00073858e-01,\n",
       "          9.83711573e-02],\n",
       "        [ 2.36934844e-02, -1.70541429e-01,  9.82870506e-02,\n",
       "         -2.21413068e-01, -1.97457472e-01,  1.17948967e-01,\n",
       "          7.73774736e-01,  2.67649867e-02, -3.06585128e-01,\n",
       "         -2.07899022e-01]]))"
      ]
     },
     "execution_count": 69,
     "metadata": {},
     "output_type": "execute_result"
    }
   ],
   "source": [
    "(x_train, y_train) = mnist.loa"
   ]
  },
  {
   "cell_type": "code",
   "execution_count": null,
   "metadata": {
    "collapsed": true
   },
   "outputs": [],
   "source": []
  },
  {
   "cell_type": "code",
   "execution_count": null,
   "metadata": {
    "collapsed": true
   },
   "outputs": [],
   "source": []
  }
 ],
 "metadata": {
  "kernelspec": {
   "display_name": "Python 2",
   "language": "python",
   "name": "python2"
  },
  "language_info": {
   "codemirror_mode": {
    "name": "ipython",
    "version": 2
   },
   "file_extension": ".py",
   "mimetype": "text/x-python",
   "name": "python",
   "nbconvert_exporter": "python",
   "pygments_lexer": "ipython2",
   "version": "2.7.14"
  }
 },
 "nbformat": 4,
 "nbformat_minor": 2
}
