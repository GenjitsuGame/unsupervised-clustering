{
 "cells": [
  {
   "cell_type": "code",
   "execution_count": 42,
   "metadata": {},
   "outputs": [
    {
     "data": {
      "image/png": "[encoded data removed]",
      "text/plain": [
       "<matplotlib.figure.Figure at 0x113d87a10>"
      ]
     },
     "metadata": {},
     "output_type": "display_data"
    }
   ],
   "source": [
    "from numpy import mean\n",
    "from numpy import cov\n",
    "from numpy.linalg import eigh\n",
    "import numpy as np\n",
    "from keras.datasets import mnist\n",
    "import matplotlib.pyplot as plt\n",
    "from mpl_toolkits.mplot3d import Axes3D\n",
    "\n",
    "dims = 2\n",
    "\n",
    "k = 3\n",
    "points = []\n",
    "for i in range(k):\n",
    "    points.append((np.random.rand(15, 2)) / 2 + (i - 1.5) * (i - 1.5))\n",
    "\n",
    "def pca(data):\n",
    "    cova = cov(data.T) \n",
    "    values, vectors = eigh(cova)\n",
    "    idx = np.argsort(values)[::-1]\n",
    "    values = np.real(values[idx])\n",
    "    vectors = np.real(vectors.T[idx])\n",
    "    return values, vectors\n",
    "\n",
    "values, vectors = pca(points[0])\n",
    "\n",
    "P = points[0].dot(vectors[:dims].T)\n",
    "\n",
    "plt.scatter(P[:, 0], P[:, 1])\n",
    "\n",
    "plt.title(\"pca on simple dataset\")\n",
    "plt.show()"
   ]
  },
  {
   "cell_type": "code",
   "execution_count": 43,
   "metadata": {},
   "outputs": [
    {
     "data": {
      "image/png": "[encoded data removed]",
      "text/plain": [
       "<matplotlib.figure.Figure at 0x118c95f90>"
      ]
     },
     "metadata": {},
     "output_type": "display_data"
    }
   ],
   "source": [
    "plt.scatter(points[0][:, 0], points[0][:, 1])\n",
    "plt.show()"
   ]
  },
  {
   "cell_type": "code",
   "execution_count": null,
   "metadata": {
    "collapsed": true
   },
   "outputs": [],
   "source": []
  }
 ],
 "metadata": {
  "kernelspec": {
   "display_name": "Python 2",
   "language": "python",
   "name": "python2"
  },
  "language_info": {
   "codemirror_mode": {
    "name": "ipython",
    "version": 2
   },
   "file_extension": ".py",
   "mimetype": "text/x-python",
   "name": "python",
   "nbconvert_exporter": "python",
   "pygments_lexer": "ipython2",
   "version": "2.7.14"
  }
 },
 "nbformat": 4,
 "nbformat_minor": 2
}
